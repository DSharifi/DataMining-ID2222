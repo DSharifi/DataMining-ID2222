{
 "cells": [
  {
   "cell_type": "code",
   "execution_count": 2,
   "metadata": {},
   "outputs": [],
   "source": [
    "class Edge:\n",
    "    def __init__(self, frm, to):#UNDIRECTED graph\n",
    "        if frm < to:\n",
    "            self.frm = frm # from\n",
    "            self.to = to\n",
    "        else:\n",
    "            self.to = frm\n",
    "            self.frm = to\n",
    "    def __hash__(self):\n",
    "        return hash((self.frm, self.to))\n",
    "    def __eq__(self, other):\n",
    "        return isinstance(self, type(other)) and other.frm == self.frm and self.to == other.to\n",
    "\n",
    "edges = set()#[]\n",
    "\n",
    "test_set = set()\n",
    "\n",
    "with open(\"dataset.txt\") as f:\n",
    "    for line in f:\n",
    "        if line[0] == \"%\":\n",
    "            continue\n",
    "        content = line.split()\n",
    "        if content[0] != content[1]:# and Edge(content[0], content[1]) not in test_set:\n",
    "            #edges += [Edge(content[0], content[1])]\n",
    "            test_set.add(Edge(content[0], content[1]))\n",
    "        \n",
    "#check unique edges"
   ]
  },
  {
   "cell_type": "code",
   "execution_count": 3,
   "metadata": {},
   "outputs": [
    {
     "name": "stdout",
     "output_type": "stream",
     "text": [
      "0\n",
      "True\n",
      "-539548530536301703\n",
      "-539548530536301703\n"
     ]
    }
   ],
   "source": [
    "print(len(edges))\n",
    "print(Edge('1','2').__eq__(Edge('2','1')))\n",
    "print(Edge('1','2').__hash__())\n",
    "print(Edge('2','1').__hash__())"
   ]
  },
  {
   "cell_type": "code",
   "execution_count": 4,
   "metadata": {},
   "outputs": [],
   "source": [
    "## TRIEST IMPR\n",
    "\n",
    "import random\n",
    "\n",
    "class Triest_impr:\n",
    "    def __init__(self, set_limit=200):\n",
    "        self.t = 0\n",
    "        self.tau = 0\n",
    "        self.edge_sampled = set()\n",
    "        self.set_limit = set_limit #>=6\n",
    "        self.counters = {}\n",
    "\n",
    "    def sample(self, edge):\n",
    "        if self.t<=self.set_limit:\n",
    "            return True\n",
    "        if random.random() <= (self.set_limit/self.t):\n",
    "            remove_el = random.sample(self.edge_sampled, 1)[0]\n",
    "            self.edge_sampled.remove(remove_el)\n",
    "            return True\n",
    "        return False\n",
    "\n",
    "    def update_counters(self, t, edge):    \n",
    "        s1 = set()\n",
    "        s2 = set()\n",
    "        for e in self.edge_sampled:\n",
    "            if e.frm == edge.frm:\n",
    "                s1.add(e.to)\n",
    "            if e.to == edge.frm:\n",
    "                s1.add(e.frm)\n",
    "            if e.frm == edge.to:\n",
    "                s2.add(e.to)\n",
    "            if e.to == edge.to:\n",
    "                s2.add(e.frm)\n",
    "       \n",
    "        weight_t = ((self.t-1)*(self.t-2))/(self.set_limit * (self.set_limit) )\n",
    "        if weight_t < 1:\n",
    "            weight_t = 1\n",
    "        for c in (s1 & s2):\n",
    "                self.tau+= weight_t\n",
    "                self.counters[c] = self.counters.get(c, 0)+ weight_t\n",
    "                self.counters[edge.frm] = self.counters.get(edge.frm, 0)+weight_t\n",
    "                self.counters[edge.to] = self.counters.get(edge.to, 0)+weight_t\n",
    "                    \n",
    "    def run(self, stream_edges):\n",
    "        for edge in stream_edges:\n",
    "            \n",
    "            if self.t % 1000 == 0:\n",
    "                print(\"element \", self.t, \"value: \", self.tau)\n",
    "            self.t += 1\n",
    "            self.update_counters(t, edge)\n",
    "            if self.sample(edge):\n",
    "                self.edge_sampled.add(edge)\n",
    "                \n",
    "        return self.tau"
   ]
  },
  {
   "cell_type": "code",
   "execution_count": 6,
   "metadata": {},
   "outputs": [
    {
     "name": "stdout",
     "output_type": "stream",
     "text": [
      "element  0 value:  0\n",
      "element  1000 value:  2\n",
      "element  2000 value:  20.076454\n",
      "element  3000 value:  51.07566800000001\n",
      "element  4000 value:  97.97087600000002\n",
      "element  5000 value:  179.83548600000003\n",
      "element  6000 value:  298.5569300000001\n",
      "element  0 value:  0\n",
      "element  1000 value:  2\n",
      "element  2000 value:  18\n",
      "element  3000 value:  64\n",
      "element  4000 value:  140\n",
      "element  5000 value:  257\n",
      "element  6000 value:  472\n",
      "With  1000 samples the expected value is  493.96035400000005  . The true value is  651  . Error:  157.03964599999995  triangles\n"
     ]
    }
   ],
   "source": [
    "sample_size = 1000\n",
    "t = Triest_impr(sample_size)\n",
    "exp = t.run(test_set)\n",
    "t_val = Triest_impr(len(test_set)).run(test_set)\n",
    "print(\"With \", sample_size, \"samples the expected value is \", exp,\" . The true value is \", t_val,\" . Error: \", abs(t_val - exp),\" triangles\")"
   ]
  },
  {
   "cell_type": "code",
   "execution_count": null,
   "metadata": {},
   "outputs": [],
   "source": []
  }
 ],
 "metadata": {
  "kernelspec": {
   "display_name": "Python 3",
   "language": "python",
   "name": "python3"
  },
  "language_info": {
   "codemirror_mode": {
    "name": "ipython",
    "version": 3
   },
   "file_extension": ".py",
   "mimetype": "text/x-python",
   "name": "python",
   "nbconvert_exporter": "python",
   "pygments_lexer": "ipython3",
   "version": "3.6.5"
  }
 },
 "nbformat": 4,
 "nbformat_minor": 2
}
