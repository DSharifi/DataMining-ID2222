{
 "cells": [
  {
   "cell_type": "code",
   "execution_count": 115,
   "metadata": {},
   "outputs": [],
   "source": [
    "class Edge:\n",
    "    def __init__(self, frm, to):#UNDIRECTED graph\n",
    "        if frm < to:\n",
    "            self.frm = frm # from\n",
    "            self.to = to\n",
    "        else:\n",
    "            self.to = frm\n",
    "            self.frm = to\n",
    "    def __hash__(self):\n",
    "        return hash((self.frm, self.to))\n",
    "    def __eq__(self, other):\n",
    "        return isinstance(self, type(other)) and other.frm == self.frm and self.to == other.to\n",
    "\n",
    "edges = set()#[]\n",
    "\n",
    "test_set = set()\n",
    "\n",
    "with open(\"dataset.txt\") as f:\n",
    "    for line in f:\n",
    "        if line[0] == \"%\":\n",
    "            continue\n",
    "        content = line.split()\n",
    "        if content[0] != content[1]:# and Edge(content[0], content[1]) not in test_set:\n",
    "            #edges += [Edge(content[0], content[1])]\n",
    "            test_set.add(Edge(content[0], content[1]))\n",
    "        \n",
    "#check unique edges"
   ]
  },
  {
   "cell_type": "code",
   "execution_count": 102,
   "metadata": {},
   "outputs": [
    {
     "name": "stdout",
     "output_type": "stream",
     "text": [
      "2408\n",
      "True\n",
      "-3134134563166582134\n",
      "-3134134563166582134\n"
     ]
    }
   ],
   "source": [
    "print(len(edges))\n",
    "print(Edge('1','2').__eq__(Edge('2','1')))\n",
    "print(Edge('1','2').__hash__())\n",
    "print(Edge('2','1').__hash__())"
   ]
  },
  {
   "cell_type": "code",
   "execution_count": 116,
   "metadata": {},
   "outputs": [],
   "source": [
    "import random\n",
    "\n",
    "class Triest_base:\n",
    "    def __init__(self, set_limit=200):\n",
    "        self.t = 0\n",
    "        self.tau = 0\n",
    "        self.edge_sampled = set()\n",
    "        self.set_limit = set_limit #>=6\n",
    "        self.counters = {}\n",
    "\n",
    "    def sample(self, edge):\n",
    "        if self.t<=self.set_limit:\n",
    "            return True\n",
    "        if random.random() <= (self.set_limit/self.t):\n",
    "            remove_el = random.sample(self.edge_sampled, 1)[0]\n",
    "            self.edge_sampled.remove(remove_el)\n",
    "            self.update_counters('-', edge)\n",
    "            return True\n",
    "        return False\n",
    "\n",
    "    def update_counters(self, op, edge):    \n",
    "        s1 = set()\n",
    "        s2 = set()\n",
    "        for e in self.edge_sampled:\n",
    "            if e.frm == edge.frm:\n",
    "                s1.add(e.to)\n",
    "            if e.to == edge.frm:\n",
    "                s1.add(e.frm)\n",
    "            if e.frm == edge.to:\n",
    "                s2.add(e.to)\n",
    "            if e.to == edge.to:\n",
    "                s2.add(e.frm)\n",
    "        for c in (s1 & s2):\n",
    "            if op == '+':\n",
    "                self.tau+=1\n",
    "                self.counters[c] = self.counters.get(c, 0)+1\n",
    "                self.counters[edge.frm] = self.counters.get(edge.frm, 0)+1\n",
    "                self.counters[edge.to] = self.counters.get(edge.to, 0)+1\n",
    "\n",
    "            elif op == '-':\n",
    "                self.tau-=1\n",
    "                self.counters[c] = self.counters.get(c, 0)-1\n",
    "                if self.counters[c] <= 0:\n",
    "                    del self.counters[c]\n",
    "                self.counters[edge.frm] = self.counters.get(edge.frm, 0)-1\n",
    "                if self.counters[edge.frm] <= 0:\n",
    "                    del self.counters[edge.frm]\n",
    "                self.counters[edge.to] = self.counters.get(edge.to, 0)-1\n",
    "                if self.counters[edge.to] <= 0:\n",
    "                    del self.counters[edge.to]\n",
    "                    \n",
    "    def run(self, stream_edges):\n",
    "        for edge in stream_edges:\n",
    "            if self.t % 1000 == 0:\n",
    "                print(\"element \", self.t, \"value: \", self.tau)\n",
    "            self.t += 1\n",
    "            if self.sample(edge):\n",
    "                self.edge_sampled.add(edge)\n",
    "                self.update_counters('+', edge)\n",
    "        eps = (self.t*(self.t-1)*(self.t-2))/(self.set_limit*(self.set_limit-1)*(self.set_limit-2))\n",
    "        if eps < 1:\n",
    "            eps = 1\n",
    "        return self.tau*eps"
   ]
  },
  {
   "cell_type": "code",
   "execution_count": null,
   "metadata": {},
   "outputs": [
    {
     "name": "stdout",
     "output_type": "stream",
     "text": [
      "element  0 value:  0\n",
      "element  1000 value:  1\n",
      "element  2000 value:  1\n",
      "element  3000 value:  1\n",
      "element  4000 value:  1\n",
      "element  5000 value:  1\n",
      "element  6000 value:  1\n",
      "element  0 value:  0\n",
      "element  1000 value:  1\n",
      "element  2000 value:  17\n"
     ]
    }
   ],
   "source": [
    "sample_size = 1000\n",
    "t = Triest_base(sample_size)\n",
    "exp = t.run(test_set)\n",
    "t_val = Triest_base(len(test_set)).run(test_set)\n",
    "print(\"With \", sample_size, \"samples the expected value is \", exp,\" . The true value is \", t_val,\" . Error: \", abs(t_val - exp),\" triangles\")"
   ]
  },
  {
   "cell_type": "code",
   "execution_count": null,
   "metadata": {},
   "outputs": [],
   "source": [
    "#V = set() #\n",
    "#E = set() #set of edges"
   ]
  }
 ],
 "metadata": {
  "kernelspec": {
   "display_name": "Python 3",
   "language": "python",
   "name": "python3"
  },
  "language_info": {
   "codemirror_mode": {
    "name": "ipython",
    "version": 3
   },
   "file_extension": ".py",
   "mimetype": "text/x-python",
   "name": "python",
   "nbconvert_exporter": "python",
   "pygments_lexer": "ipython3",
   "version": "3.6.5"
  }
 },
 "nbformat": 4,
 "nbformat_minor": 2
}
